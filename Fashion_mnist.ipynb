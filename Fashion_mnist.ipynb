{
  "nbformat": 4,
  "nbformat_minor": 0,
  "metadata": {
    "colab": {
      "name": "Fashion_mnist",
      "provenance": [],
      "collapsed_sections": []
    },
    "kernelspec": {
      "name": "python3",
      "display_name": "Python 3"
    },
    "language_info": {
      "name": "python"
    },
    "accelerator": "GPU"
  },
  "cells": [
    {
      "cell_type": "code",
      "metadata": {
        "id": "HTejSP-Udj9t"
      },
      "source": [
        "\n",
        "import keras\n",
        "from keras.models import Sequential\n",
        "from keras.layers import Dense\n",
        "from tensorflow.keras.utils import to_categorical\n",
        "\n",
        "from keras.layers.convolutional import Conv2D # to add convolutional layers\n",
        "from keras.layers.convolutional import MaxPooling2D # to add pooling layers\n",
        "from keras.layers import Flatten # to flatten data for fully connected layers\n",
        "\n",
        "# import data\n",
        "from keras.datasets import fashion_mnist\n",
        "\n",
        "import numpy as np\n"
      ],
      "execution_count": null,
      "outputs": []
    },
    {
      "cell_type": "code",
      "metadata": {
        "id": "z2FGL80adn6S"
      },
      "source": [
        "\n",
        "#with 1 convolutional layer\n",
        "def convolutional_model():  \n",
        "    # create model\n",
        "    model = Sequential()\n",
        "    model.add(Conv2D(16, (5, 5), strides=(1, 1), activation='relu', input_shape=(28, 28, 1)))\n",
        "    model.add(MaxPooling2D(pool_size=(2, 2), strides=(2, 2)))\n",
        "    \n",
        "    model.add(Flatten())\n",
        "    #10-100\n",
        "    model.add(Dense(100, activation='relu'))\n",
        "    model.add(Dense(num_classes, activation='softmax'))\n",
        "    \n",
        "    # compile model\n",
        "    model.compile(optimizer='adam', loss='categorical_crossentropy',  metrics=['accuracy'])\n",
        "    return model\n"
      ],
      "execution_count": null,
      "outputs": []
    },
    {
      "cell_type": "code",
      "metadata": {
        "id": "SmQySrLmdvdG"
      },
      "source": [
        "\n",
        "# with 2 convolutional\n",
        "def convolutional_model1():\n",
        "    \n",
        "    # create model\n",
        "    model = Sequential()\n",
        "    model.add(Conv2D(16, (5, 5), activation='relu', input_shape=(28, 28, 1)))\n",
        "    model.add(MaxPooling2D(pool_size=(2, 2), strides=(2, 2)))\n",
        "    \n",
        "    model.add(Conv2D(8, (2, 2), activation='relu'))\n",
        "    model.add(MaxPooling2D(pool_size=(2, 2), strides=(2, 2)))\n",
        "    \n",
        "    model.add(Flatten())\n",
        "    model.add(Dense(100, activation='relu'))\n",
        "    model.add(Dense(num_classes, activation='softmax'))\n",
        "    \n",
        "    # Compile model\n",
        "    model.compile(optimizer='adam', loss='categorical_crossentropy',  metrics=['accuracy'])\n",
        "    return model"
      ],
      "execution_count": null,
      "outputs": []
    },
    {
      "cell_type": "code",
      "metadata": {
        "id": "OGhdiwFwdzTR"
      },
      "source": [
        "# load data\n",
        "(X_train, y_train), (X_test, y_test) = fashion_mnist.load_data()\n"
      ],
      "execution_count": null,
      "outputs": []
    },
    {
      "cell_type": "markdown",
      "metadata": {
        "id": "fuHBivAYfzPe"
      },
      "source": [
        "0 T-shirt/top\n",
        "1 Trouser\n",
        "2 Pullover\n",
        "**3 Dress**\n",
        "**4 Coat**\n",
        "5 Sandal\n",
        "**6 Shirt**\n",
        "**7 Sneaker**\n",
        "8 Bag\n",
        "9 Ankle boot\n",
        "\n"
      ]
    },
    {
      "cell_type": "code",
      "metadata": {
        "id": "X-vz2k2Rd5B8"
      },
      "source": [
        "\n",
        "index_train=[]\n",
        "\n",
        "for i in range(10000):\n",
        "    if (y_train[i])==(0) or (y_train[i])==(1)or (y_train[i])==(2)or (y_train[i])==(5)or (y_train[i])==(8)or (y_train[i])==(9):\n",
        "        index_train.append(i)\n",
        "for i in range(10000,20000):\n",
        "    if (y_train[i])==(0) or (y_train[i])==(1)or (y_train[i])==(2)or (y_train[i])==(5)or (y_train[i])==(8)or (y_train[i])==(9):\n",
        "        index_train.append(i)\n",
        "for i in range(20000,30000):\n",
        "    if (y_train[i])==(0) or (y_train[i])==(1)or (y_train[i])==(2)or (y_train[i])==(5)or (y_train[i])==(8)or (y_train[i])==(9):\n",
        "        index_train.append(i)\n",
        "for i in range(30000,40000):\n",
        "    if (y_train[i])==(0) or (y_train[i])==(1)or (y_train[i])==(2)or (y_train[i])==(5)or (y_train[i])==(8)or (y_train[i])==(9):\n",
        "        index_train.append(i)\n",
        "for i in range(40000,50000):\n",
        "    if (y_train[i])==(0) or (y_train[i])==(1)or (y_train[i])==(2)or (y_train[i])==(5)or (y_train[i])==(8)or (y_train[i])==(9):\n",
        "        index_train.append(i)\n",
        "for i in range(50000,60000):\n",
        "    if (y_train[i])==(0) or (y_train[i])==(1)or (y_train[i])==(2)or (y_train[i])==(5)or (y_train[i])==(8)or (y_train[i])==(9):\n",
        "        index_train.append(i)\n",
        "  \n",
        "index_test=[]\n",
        "\n",
        "for j in range(X_test.shape[0]):\n",
        "    if (y_test[j])==(0) or (y_test[j])==(1) or (y_test[j])==(2) or (y_test[j])==(5) or (y_test[j])==(8)or (y_test[j])==(9):\n",
        "        index_test.append(j)\n"
      ],
      "execution_count": null,
      "outputs": []
    },
    {
      "cell_type": "code",
      "metadata": {
        "id": "s2-4x57qd7Py"
      },
      "source": [
        "\n",
        "y_train=np.delete(y_train, index_train)\n",
        "X_train=np.delete(X_train,index_train,axis=0)\n",
        "X_test=np.delete(X_test,index_test,axis=0)\n",
        "y_test=np.delete(y_test,index_test)\n"
      ],
      "execution_count": null,
      "outputs": []
    },
    {
      "cell_type": "code",
      "metadata": {
        "id": "sFzT-7G2d9qp"
      },
      "source": [
        "\n",
        "# reshape to be [samples][pixels][width][height]\n",
        "X_train = X_train.reshape(X_train.shape[0], 28, 28, 1).astype('float32')\n",
        "X_test = X_test.reshape(X_test.shape[0], 28, 28, 1).astype('float32')\n",
        "\n",
        "X_train = X_train / 255 # normalize training data\n",
        "X_test = X_test / 255 # normalize test data\n",
        "\n",
        "y_train = to_categorical(y_train)\n",
        "y_test = to_categorical(y_test)\n",
        "\n"
      ],
      "execution_count": null,
      "outputs": []
    },
    {
      "cell_type": "code",
      "metadata": {
        "id": "jCB0YnLvd_or"
      },
      "source": [
        "num_classes = y_test.shape[1] # number of categories\n",
        "\n",
        "# build the model\n",
        "model = convolutional_model()\n",
        "\n",
        "# fit the model\n",
        "#epochs=10\n",
        "model.fit(X_train, y_train, validation_data=(X_test, y_test), epochs=10, batch_size=200, verbose=2)\n",
        "\n",
        "# evaluate the model\n",
        "scores = model.evaluate(X_test, y_test, verbose=0)\n",
        "print(\"With 1 layer\")\n",
        "print(\"Accuracy: {} \\n Error: {}\".format(scores[1], 100-(scores[1]*100)))\n",
        "\n",
        "# build the model\n",
        "model1 = convolutional_model1()\n",
        "\n",
        "# fit the model\n",
        "model1.fit(X_train, y_train, validation_data=(X_test, y_test), epochs=10, batch_size=200, verbose=2)\n",
        "\n",
        "# evaluate the model\n",
        "scores1 = model.evaluate(X_test, y_test, verbose=0)\n",
        "print(\"With 2 layer\")\n",
        "print(\"Accuracy: {} \\n Error: {}\".format(scores1[1], 100-(scores1[1]*100)))"
      ],
      "execution_count": null,
      "outputs": []
    }
  ]
}